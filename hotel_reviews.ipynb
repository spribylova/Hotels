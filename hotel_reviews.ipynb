{
  "nbformat": 4,
  "nbformat_minor": 0,
  "metadata": {
    "colab": {
      "provenance": [],
      "authorship_tag": "ABX9TyMZ5Eq4YKzGCqzcaBwgVf57",
      "include_colab_link": true
    },
    "kernelspec": {
      "name": "python3",
      "display_name": "Python 3"
    },
    "language_info": {
      "name": "python"
    }
  },
  "cells": [
    {
      "cell_type": "markdown",
      "metadata": {
        "id": "view-in-github",
        "colab_type": "text"
      },
      "source": [
        "<a href=\"https://colab.research.google.com/github/spribylova/Python_Hotels/blob/main/hotel_reviews.ipynb\" target=\"_parent\"><img src=\"https://colab.research.google.com/assets/colab-badge.svg\" alt=\"Open In Colab\"/></a>"
      ]
    },
    {
      "cell_type": "code",
      "execution_count": 39,
      "metadata": {
        "colab": {
          "base_uri": "https://localhost:8080/"
        },
        "id": "wQW6K0obfV9V",
        "outputId": "52dca80c-79d2-4f9e-c337-1309b608635d"
      },
      "outputs": [
        {
          "output_type": "stream",
          "name": "stdout",
          "text": [
            "Looking in indexes: https://pypi.org/simple, https://us-python.pkg.dev/colab-wheels/public/simple/\n",
            "Requirement already satisfied: kaggle in /usr/local/lib/python3.8/dist-packages (1.5.12)\n",
            "Requirement already satisfied: requests in /usr/local/lib/python3.8/dist-packages (from kaggle) (2.25.1)\n",
            "Requirement already satisfied: certifi in /usr/local/lib/python3.8/dist-packages (from kaggle) (2022.12.7)\n",
            "Requirement already satisfied: python-dateutil in /usr/local/lib/python3.8/dist-packages (from kaggle) (2.8.2)\n",
            "Requirement already satisfied: six>=1.10 in /usr/local/lib/python3.8/dist-packages (from kaggle) (1.15.0)\n",
            "Requirement already satisfied: tqdm in /usr/local/lib/python3.8/dist-packages (from kaggle) (4.64.1)\n",
            "Requirement already satisfied: python-slugify in /usr/local/lib/python3.8/dist-packages (from kaggle) (8.0.0)\n",
            "Requirement already satisfied: urllib3 in /usr/local/lib/python3.8/dist-packages (from kaggle) (1.24.3)\n",
            "Requirement already satisfied: text-unidecode>=1.3 in /usr/local/lib/python3.8/dist-packages (from python-slugify->kaggle) (1.3)\n",
            "Requirement already satisfied: idna<3,>=2.5 in /usr/local/lib/python3.8/dist-packages (from requests->kaggle) (2.10)\n",
            "Requirement already satisfied: chardet<5,>=3.0.2 in /usr/local/lib/python3.8/dist-packages (from requests->kaggle) (4.0.0)\n"
          ]
        }
      ],
      "source": [
        "!pip install kaggle"
      ]
    },
    {
      "cell_type": "code",
      "source": [
        "!mkdir ~/.kaggle"
      ],
      "metadata": {
        "id": "jkuj__QBf1pB",
        "colab": {
          "base_uri": "https://localhost:8080/"
        },
        "outputId": "3a3ad9eb-c157-46a6-c49c-1b6c281003e8"
      },
      "execution_count": 41,
      "outputs": [
        {
          "output_type": "stream",
          "name": "stdout",
          "text": [
            "mkdir: cannot create directory ‘/root/.kaggle’: File exists\n"
          ]
        }
      ]
    },
    {
      "cell_type": "code",
      "source": [
        "import pandas as pd\n",
        "import seaborn as sns\n",
        "import matplotlib.pyplot as plt"
      ],
      "metadata": {
        "id": "xXDJXFjOgjK4"
      },
      "execution_count": 42,
      "outputs": []
    },
    {
      "cell_type": "code",
      "source": [
        "import nltk\n",
        "nltk.download('vader_lexicon')"
      ],
      "metadata": {
        "colab": {
          "base_uri": "https://localhost:8080/"
        },
        "id": "DGyvjkSiprJi",
        "outputId": "3a0e502e-d8d5-4740-abe5-c41f271374f2"
      },
      "execution_count": 43,
      "outputs": [
        {
          "output_type": "stream",
          "name": "stderr",
          "text": [
            "[nltk_data] Downloading package vader_lexicon to /root/nltk_data...\n",
            "[nltk_data]   Package vader_lexicon is already up-to-date!\n"
          ]
        },
        {
          "output_type": "execute_result",
          "data": {
            "text/plain": [
              "True"
            ]
          },
          "metadata": {},
          "execution_count": 43
        }
      ]
    },
    {
      "cell_type": "code",
      "source": [
        "from nltk.sentiment.vader import SentimentIntensityAnalyzer\n",
        "sentiments = SentimentIntensityAnalyzer()"
      ],
      "metadata": {
        "id": "CadX-IbPpWjl"
      },
      "execution_count": 44,
      "outputs": []
    },
    {
      "cell_type": "code",
      "source": [
        "data = pd.read_csv(\"Hotel_Reviews.csv\")\n",
        "print(data.head())"
      ],
      "metadata": {
        "colab": {
          "base_uri": "https://localhost:8080/"
        },
        "id": "jOGcID0Ope52",
        "outputId": "58a7139a-7c83-42d6-f6c2-748c66012aad"
      },
      "execution_count": 45,
      "outputs": [
        {
          "output_type": "stream",
          "name": "stdout",
          "text": [
            "                  address categories      city country   latitude  longitude  \\\n",
            "0  Riviera San Nicol 11/a     Hotels  Mableton      US  45.421611  12.376187   \n",
            "1  Riviera San Nicol 11/a     Hotels  Mableton      US  45.421611  12.376187   \n",
            "2  Riviera San Nicol 11/a     Hotels  Mableton      US  45.421611  12.376187   \n",
            "3  Riviera San Nicol 11/a     Hotels  Mableton      US  45.421611  12.376187   \n",
            "4  Riviera San Nicol 11/a     Hotels  Mableton      US  45.421611  12.376187   \n",
            "\n",
            "                 name postalCode province          reviews.date  \\\n",
            "0  Hotel Russo Palace      30126       GA  2013-09-22T00:00:00Z   \n",
            "1  Hotel Russo Palace      30126       GA  2015-04-03T00:00:00Z   \n",
            "2  Hotel Russo Palace      30126       GA  2014-05-13T00:00:00Z   \n",
            "3  Hotel Russo Palace      30126       GA  2013-10-27T00:00:00Z   \n",
            "4  Hotel Russo Palace      30126       GA  2015-03-05T00:00:00Z   \n",
            "\n",
            "      reviews.dateAdded  reviews.doRecommend  reviews.id  reviews.rating  \\\n",
            "0  2016-10-24T00:00:25Z                  NaN         NaN             4.0   \n",
            "1  2016-10-24T00:00:25Z                  NaN         NaN             5.0   \n",
            "2  2016-10-24T00:00:25Z                  NaN         NaN             5.0   \n",
            "3  2016-10-24T00:00:25Z                  NaN         NaN             5.0   \n",
            "4  2016-10-24T00:00:25Z                  NaN         NaN             5.0   \n",
            "\n",
            "                                        reviews.text  \\\n",
            "0  Pleasant 10 min walk along the sea front to th...   \n",
            "1  Really lovely hotel. Stayed on the very top fl...   \n",
            "2  Ett mycket bra hotell. Det som drog ner betyge...   \n",
            "3  We stayed here for four nights in October. The...   \n",
            "4  We stayed here for four nights in October. The...   \n",
            "\n",
            "                        reviews.title reviews.userCity reviews.username  \\\n",
            "0  Good location away from the crouds              NaN      Russ (kent)   \n",
            "1      Great hotel with Jacuzzi bath!              NaN       A Traveler   \n",
            "2                         Lugnt l��ge              NaN             Maud   \n",
            "3          Good location on the Lido.              NaN            Julie   \n",
            "4              ������ ���������������              NaN         sungchul   \n",
            "\n",
            "  reviews.userProvince  \n",
            "0                  NaN  \n",
            "1                  NaN  \n",
            "2                  NaN  \n",
            "3                  NaN  \n",
            "4                  NaN  \n"
          ]
        }
      ]
    },
    {
      "cell_type": "code",
      "source": [
        "# get the unique countries in the file\n",
        "data[\"country\"].unique()"
      ],
      "metadata": {
        "colab": {
          "base_uri": "https://localhost:8080/"
        },
        "id": "7dcEw2OyQU_u",
        "outputId": "7a37e374-1fe4-46ce-8f0e-97c8323de66e"
      },
      "execution_count": 46,
      "outputs": [
        {
          "output_type": "execute_result",
          "data": {
            "text/plain": [
              "array(['US'], dtype=object)"
            ]
          },
          "metadata": {},
          "execution_count": 46
        }
      ]
    },
    {
      "cell_type": "code",
      "source": [
        "# get the unique hotel names in the file \n",
        "data[\"name\"].unique()"
      ],
      "metadata": {
        "id": "kBHMcqUHQkHi"
      },
      "execution_count": null,
      "outputs": []
    },
    {
      "cell_type": "code",
      "source": [
        "data[\"reviews.rating\"].unique()"
      ],
      "metadata": {
        "colab": {
          "base_uri": "https://localhost:8080/"
        },
        "id": "fYsFlry9R97A",
        "outputId": "dc8bf123-fd24-4fb8-bf83-d3233793be5c"
      },
      "execution_count": 16,
      "outputs": [
        {
          "output_type": "execute_result",
          "data": {
            "text/plain": [
              "array([ 4. ,  5. ,  3. ,  1. ,  2. ,  0. ,  4.1,  nan,  4.9,  4.8,  3.4,\n",
              "        2.4,  3.1,  3.2,  3.3,  9.6, 10. ,  8.3,  8.8,  9.2,  7.5,  7.9,\n",
              "        7.1,  3.8,  5.8,  6.7,  6.3,  4.2,  4.5,  3.9,  1.3,  4.3,  4.7,\n",
              "        2.8,  4.4,  1.5,  4.6,  3.7,  5.4,  2.5,  6. ,  2.9,  7. ,  9.5])"
            ]
          },
          "metadata": {},
          "execution_count": 16
        }
      ]
    },
    {
      "cell_type": "code",
      "source": [
        "# fill the null reviews of the Hotels with 0\n",
        "data['reviews.rating']=data['reviews.rating'].fillna(0)"
      ],
      "metadata": {
        "id": "30mgPjRvTr14"
      },
      "execution_count": 49,
      "outputs": []
    },
    {
      "cell_type": "code",
      "source": [
        "# create a range of 5 maximum review numbers\n",
        "for i in range(0,len(data)):\n",
        "   if(data['reviews.rating'].loc[i] > 5):\n",
        "       temp = data['reviews.rating'].loc[i]\n",
        "       newtemp = (temp/10)*5\n",
        "       data.at[i,'reviews.rating'] = newtemp"
      ],
      "metadata": {
        "id": "fUa0csNRT7NJ"
      },
      "execution_count": 50,
      "outputs": []
    },
    {
      "cell_type": "code",
      "source": [
        "ratings = data[\"reviews.rating\"].value_counts()\n",
        "numbers = ratings.index\n",
        "quantity = ratings.values\n",
        "ratings"
      ],
      "metadata": {
        "colab": {
          "base_uri": "https://localhost:8080/"
        },
        "id": "ssVh-6k-qmLD",
        "outputId": "d52819b9-fcca-4c5b-9a3c-25bcbc39649d"
      },
      "execution_count": 51,
      "outputs": [
        {
          "output_type": "execute_result",
          "data": {
            "text/plain": [
              "5.00    12772\n",
              "4.00     9755\n",
              "3.00     5709\n",
              "1.00     3068\n",
              "2.00     2979\n",
              "0.00     1199\n",
              "4.80       78\n",
              "4.60       56\n",
              "4.40       30\n",
              "4.30       26\n",
              "4.15       25\n",
              "3.75       24\n",
              "3.95       24\n",
              "4.20       22\n",
              "3.40       17\n",
              "4.10       14\n",
              "3.15       14\n",
              "4.50       13\n",
              "3.55       13\n",
              "3.35       12\n",
              "2.70        9\n",
              "3.10        7\n",
              "2.90        7\n",
              "4.70        6\n",
              "3.30        6\n",
              "4.90        6\n",
              "2.40        4\n",
              "3.80        3\n",
              "2.50        3\n",
              "3.20        2\n",
              "3.90        2\n",
              "3.70        2\n",
              "1.30        1\n",
              "2.80        1\n",
              "1.50        1\n",
              "3.50        1\n",
              "4.75        1\n",
              "Name: reviews.rating, dtype: int64"
            ]
          },
          "metadata": {},
          "execution_count": 51
        }
      ]
    },
    {
      "cell_type": "code",
      "source": [
        "# round decimal places in rating\n",
        "ratings=data['reviews.rating'].round(0).value_counts()"
      ],
      "metadata": {
        "id": "udysK--Au3Yo"
      },
      "execution_count": 52,
      "outputs": []
    },
    {
      "cell_type": "code",
      "source": [
        "# create indexes from rating value and counts\n",
        "numbers = ratings.index\n",
        "quantity = ratings.values"
      ],
      "metadata": {
        "id": "ebcAMh2ivv4m"
      },
      "execution_count": 53,
      "outputs": []
    },
    {
      "cell_type": "code",
      "source": [
        "# assign color to each rating and revise the chart to see the share of rating values \n",
        "custom_colors = [\"tan\", \"grey\", 'silver', \"black\", \"yellow\"]\n",
        "plt.figure(figsize=(5, 5))\n",
        "plt.pie(quantity, labels=numbers, colors=custom_colors)\n",
        "central_circle = plt.Circle((0, 0), 0.5, color='white')\n",
        "fig = plt.gcf()\n",
        "fig.gca().add_artist(central_circle)\n",
        "plt.rc('font', size=12)\n",
        "plt.title(\"Hotel Reviews Ratings\", fontsize=20)\n",
        "plt.show()"
      ],
      "metadata": {
        "colab": {
          "base_uri": "https://localhost:8080/",
          "height": 324
        },
        "id": "8E6BAJQsqhDN",
        "outputId": "52b24c24-609b-4aa3-cd62-e4c51d15ba39"
      },
      "execution_count": 54,
      "outputs": [
        {
          "output_type": "display_data",
          "data": {
            "text/plain": [
              "<Figure size 360x360 with 1 Axes>"
            ],
            "image/png": "[encoded data removed]"
          },
          "metadata": {}
        }
      ]
    },
    {
      "cell_type": "code",
      "source": [
        "# add sentiment anaylsis columns\n",
        "from nltk.sentiment.vader import SentimentIntensityAnalyzer"
      ],
      "metadata": {
        "id": "Mk6vE5pDTaa6"
      },
      "execution_count": 55,
      "outputs": []
    },
    {
      "cell_type": "code",
      "source": [
        "pip install -q transformers"
      ],
      "metadata": {
        "id": "PSB7vEagTauK"
      },
      "execution_count": 56,
      "outputs": []
    },
    {
      "cell_type": "code",
      "source": [
        "from transformers import pipeline\n",
        "sentiment_pipeline = pipeline(\"sentiment-analysis\")\n",
        "rt = data[\"reviews.text\"]\n",
        "rt"
      ],
      "metadata": {
        "id": "IS6EdnaEcchV"
      },
      "execution_count": null,
      "outputs": []
    },
    {
      "cell_type": "code",
      "source": [
        "sid = SentimentIntensityAnalyzer()"
      ],
      "metadata": {
        "id": "fp1ek1QmTapP"
      },
      "execution_count": 60,
      "outputs": []
    },
    {
      "cell_type": "code",
      "source": [
        "pip install TextBlob"
      ],
      "metadata": {
        "colab": {
          "base_uri": "https://localhost:8080/"
        },
        "id": "7NYk9FSMiF7t",
        "outputId": "6547694e-6572-461e-e7fb-e097d0500e8b"
      },
      "execution_count": 62,
      "outputs": [
        {
          "output_type": "stream",
          "name": "stdout",
          "text": [
            "Looking in indexes: https://pypi.org/simple, https://us-python.pkg.dev/colab-wheels/public/simple/\n",
            "Requirement already satisfied: TextBlob in /usr/local/lib/python3.8/dist-packages (0.15.3)\n",
            "Requirement already satisfied: nltk>=3.1 in /usr/local/lib/python3.8/dist-packages (from TextBlob) (3.7)\n",
            "Requirement already satisfied: joblib in /usr/local/lib/python3.8/dist-packages (from nltk>=3.1->TextBlob) (1.2.0)\n",
            "Requirement already satisfied: click in /usr/local/lib/python3.8/dist-packages (from nltk>=3.1->TextBlob) (7.1.2)\n",
            "Requirement already satisfied: tqdm in /usr/local/lib/python3.8/dist-packages (from nltk>=3.1->TextBlob) (4.64.1)\n",
            "Requirement already satisfied: regex>=2021.8.3 in /usr/local/lib/python3.8/dist-packages (from nltk>=3.1->TextBlob) (2022.6.2)\n"
          ]
        }
      ]
    }
  ]
}